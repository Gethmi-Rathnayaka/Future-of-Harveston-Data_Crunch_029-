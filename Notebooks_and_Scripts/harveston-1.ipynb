{
 "cells": [
  {
   "cell_type": "code",
   "execution_count": 1,
   "id": "1713fe7c",
   "metadata": {
    "execution": {
     "iopub.execute_input": "2025-04-02T11:35:41.697721Z",
     "iopub.status.busy": "2025-04-02T11:35:41.697269Z",
     "iopub.status.idle": "2025-04-02T11:35:46.255584Z",
     "shell.execute_reply": "2025-04-02T11:35:46.254302Z"
    },
    "papermill": {
     "duration": 4.563236,
     "end_time": "2025-04-02T11:35:46.257342",
     "exception": false,
     "start_time": "2025-04-02T11:35:41.694106",
     "status": "completed"
    },
    "tags": []
   },
   "outputs": [
    {
     "name": "stdout",
     "output_type": "stream",
     "text": [
      "sMAPE for Avg_Temperature: 2.27%\n",
      "sMAPE for Radiation: 16.34%\n",
      "sMAPE for Rain_Amount: 109.47%\n",
      "sMAPE for Wind_Speed: 28.18%\n",
      "sMAPE for Wind_Direction: 44.10%\n",
      "Submission file saved!\n"
     ]
    },
    {
     "name": "stderr",
     "output_type": "stream",
     "text": [
      "<ipython-input-1-8d661c1882f9>:63: SettingWithCopyWarning: \n",
      "A value is trying to be set on a copy of a slice from a DataFrame.\n",
      "Try using .loc[row_indexer,col_indexer] = value instead\n",
      "\n",
      "See the caveats in the documentation: https://pandas.pydata.org/pandas-docs/stable/user_guide/indexing.html#returning-a-view-versus-a-copy\n",
      "  submission[target] = predictions[target]\n"
     ]
    }
   ],
   "source": [
    "import pandas as pd\n",
    "import numpy as np\n",
    "import xgboost as xgb\n",
    "from sklearn.model_selection import train_test_split\n",
    "from sklearn.metrics import mean_absolute_error\n",
    "from sklearn.preprocessing import LabelEncoder\n",
    "\n",
    "def smape(y_true, y_pred):\n",
    "    return 100 * np.mean(2 * np.abs(y_pred - y_true) / (np.abs(y_true) + np.abs(y_pred)))\n",
    "\n",
    "#Load data sets\n",
    "train = pd.read_csv(\"/kaggle/input/data-crunch-round-1/train.csv\")\n",
    "test = pd.read_csv(\"/kaggle/input/data-crunch-round-1/test.csv\")\n",
    "sample_sub = pd.read_csv(\"/kaggle/input/data-crunch-round-1/sample_submission.csv\")\n",
    "\n",
    "\n",
    "def preprocess(df):\n",
    "    df.loc[:, \"Year\"] = df[\"Year\"].apply(lambda x: x + 2000 if x < 1000 else x)\n",
    "    df[\"Date\"] = pd.to_datetime(df[[\"Year\", \"Month\", \"Day\"]], errors='coerce')\n",
    "    df = df.sort_values(\"Date\")\n",
    "    df.drop(columns=[\"Year\", \"Month\", \"Day\"], inplace=True)\n",
    "    \n",
    "    \n",
    "    if \"kingdom\" in df.columns:\n",
    "        encoder = LabelEncoder()\n",
    "        df[\"kingdom\"] = encoder.fit_transform(df[\"kingdom\"])\n",
    "    \n",
    "    return df\n",
    "\n",
    "train = preprocess(train)\n",
    "test = preprocess(test)\n",
    "\n",
    "#Feature Engineering\n",
    "if \"Avg_Temperature\" in train.columns:\n",
    "    train[\"Temp_Lag1\"] = train[\"Avg_Temperature\"].shift(1)\n",
    "if \"Radiation\" in train.columns:\n",
    "    train[\"Radiation_Lag1\"] = train[\"Radiation\"].shift(1)\n",
    "train.bfill(inplace=True)\n",
    "\n",
    "#Target columns\n",
    "targets = [\"Avg_Temperature\", \"Radiation\", \"Rain_Amount\", \"Wind_Speed\", \"Wind_Direction\"]\n",
    "features = [col for col in train.columns if col not in [\"ID\", \"Date\"] + targets]\n",
    "\n",
    "available_features = [col for col in features if col in test.columns]\n",
    "X_train, X_val, y_train, y_val = train_test_split(train[available_features], train[targets], test_size=0.2, random_state=42)\n",
    "\n",
    "models = {}\n",
    "predictions = {}\n",
    "\n",
    "for target in targets:\n",
    "    model = xgb.XGBRegressor(objective='reg:squarederror', n_estimators=100, learning_rate=0.1, random_state=42, enable_categorical=True)\n",
    "    model.fit(X_train, y_train[target])\n",
    "    y_pred = model.predict(X_val)\n",
    "    print(f\"sMAPE for {target}: {smape(y_val[target], y_pred):.2f}%\")\n",
    "    models[target] = model\n",
    "    if set(available_features).issubset(test.columns):\n",
    "        predictions[target] = model.predict(test[available_features])\n",
    "    else:\n",
    "        predictions[target] = np.zeros(len(test))\n",
    "\n",
    "submission = test[[\"ID\"].copy()]\n",
    "for target in targets:\n",
    "    submission[target] = predictions[target]\n",
    "\n",
    "submission.to_csv(\"submission.csv\", index=False)\n",
    "print(\"Submission file saved!\")\n"
   ]
  }
 ],
 "metadata": {
  "kaggle": {
   "accelerator": "none",
   "dataSources": [
    {
     "databundleVersionId": 11590601,
     "isSourceIdPinned": false,
     "sourceId": 97455,
     "sourceType": "competition"
    }
   ],
   "dockerImageVersionId": 30918,
   "isGpuEnabled": false,
   "isInternetEnabled": true,
   "language": "python",
   "sourceType": "notebook"
  },
  "kernelspec": {
   "display_name": "Python 3",
   "language": "python",
   "name": "python3"
  },
  "language_info": {
   "codemirror_mode": {
    "name": "ipython",
    "version": 3
   },
   "file_extension": ".py",
   "mimetype": "text/x-python",
   "name": "python",
   "nbconvert_exporter": "python",
   "pygments_lexer": "ipython3",
   "version": "3.10.12"
  },
  "papermill": {
   "default_parameters": {},
   "duration": 7.992332,
   "end_time": "2025-04-02T11:35:46.879190",
   "environment_variables": {},
   "exception": null,
   "input_path": "__notebook__.ipynb",
   "output_path": "__notebook__.ipynb",
   "parameters": {},
   "start_time": "2025-04-02T11:35:38.886858",
   "version": "2.6.0"
  }
 },
 "nbformat": 4,
 "nbformat_minor": 5
}
