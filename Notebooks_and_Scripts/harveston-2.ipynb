{
 "cells": [
  {
   "cell_type": "code",
   "execution_count": 1,
   "id": "91e0ee8b",
   "metadata": {
    "_cell_guid": "b1076dfc-b9ad-4769-8c92-a6c4dae69d19",
    "_uuid": "8f2839f25d086af736a60e9eeb907d3b93b6e0e5",
    "execution": {
     "iopub.execute_input": "2025-04-02T12:00:51.954351Z",
     "iopub.status.busy": "2025-04-02T12:00:51.953937Z"
    },
    "papermill": {
     "duration": null,
     "end_time": null,
     "exception": false,
     "start_time": "2025-04-02T12:00:51.950627",
     "status": "running"
    },
    "tags": []
   },
   "outputs": [
    {
     "name": "stderr",
     "output_type": "stream",
     "text": [
      "<ipython-input-1-1a1a7598c6ca>:34: FutureWarning: A value is trying to be set on a copy of a DataFrame or Series through chained assignment using an inplace method.\n",
      "The behavior will change in pandas 3.0. This inplace method will never work because the intermediate object on which we are setting values always behaves as a copy.\n",
      "\n",
      "For example, when doing 'df[col].method(value, inplace=True)', try using 'df.method({col: value}, inplace=True)' or df[col] = df[col].method(value) instead, to perform the operation inplace on the original object.\n",
      "\n",
      "\n",
      "  train_df[col].fillna(mode_value, inplace=True)\n",
      "<ipython-input-1-1a1a7598c6ca>:35: FutureWarning: A value is trying to be set on a copy of a DataFrame or Series through chained assignment using an inplace method.\n",
      "The behavior will change in pandas 3.0. This inplace method will never work because the intermediate object on which we are setting values always behaves as a copy.\n",
      "\n",
      "For example, when doing 'df[col].method(value, inplace=True)', try using 'df.method({col: value}, inplace=True)' or df[col] = df[col].method(value) instead, to perform the operation inplace on the original object.\n",
      "\n",
      "\n",
      "  test_df[col].fillna(mode_value, inplace=True)\n"
     ]
    },
    {
     "name": "stdout",
     "output_type": "stream",
     "text": [
      "Validation Mean Absolute Error: 6.646353608757062\n"
     ]
    }
   ],
   "source": [
    "import pandas as pd\n",
    "import numpy as np\n",
    "from sklearn.ensemble import RandomForestRegressor\n",
    "from sklearn.multioutput import MultiOutputRegressor\n",
    "from sklearn.model_selection import train_test_split\n",
    "from sklearn.metrics import mean_absolute_error\n",
    "from sklearn.impute import SimpleImputer\n",
    "\n",
    "#Load data sets\n",
    "train_df = pd.read_csv(\"/kaggle/input/data-crunch-round-1/train.csv\")\n",
    "test_df = pd.read_csv(\"/kaggle/input/data-crunch-round-1/test.csv\")\n",
    "sample_sub = pd.read_csv(\"/kaggle/input/data-crunch-round-1/sample_submission.csv\")\n",
    "\n",
    "#Necessary columns\n",
    "numeric_columns = ['latitude', 'longitude', 'Avg_Temperature', 'Avg_Feels_Like_Temperature', 'Temperature_Range',\n",
    "                   'Feels_Like_Temperature_Range', 'Radiation', 'Rain_Amount', 'Rain_Duration', 'Wind_Speed',\n",
    "                   'Wind_Direction', 'Evapotranspiration']\n",
    "categorical_columns = ['kingdom']\n",
    "\n",
    "def ensure_columns(df, columns):\n",
    "    missing_cols = [col for col in columns if col not in df.columns]\n",
    "    for col in missing_cols:\n",
    "        df[col] = np.nan\n",
    "\n",
    "ensure_columns(train_df, numeric_columns + categorical_columns)\n",
    "ensure_columns(test_df, numeric_columns + categorical_columns)\n",
    "\n",
    "#Missing values\n",
    "train_df[numeric_columns] = train_df[numeric_columns].apply(lambda x: x.fillna(x.median()))\n",
    "test_df[numeric_columns] = test_df[numeric_columns].apply(lambda x: x.fillna(train_df[x.name].median()))\n",
    "\n",
    "for col in categorical_columns:\n",
    "    mode_value = train_df[col].mode()[0]\n",
    "    train_df[col].fillna(mode_value, inplace=True)\n",
    "    test_df[col].fillna(mode_value, inplace=True)\n",
    "\n",
    "#Function to handle 3-digit year format\n",
    "def parse_3_digit_year(row):\n",
    "    year = int(row['Year'])\n",
    "    month = int(row['Month'])\n",
    "    day = int(row['Day'])\n",
    "\n",
    "    if year < 1000:  \n",
    "        year = 1000 + year  \n",
    "\n",
    "    if year < 1900 or year > 2100: \n",
    "        year = 2000  \n",
    "    \n",
    "    return f\"{year:04d}-{month:02d}-{day:02d}\"\n",
    "\n",
    "for df in [train_df, test_df]:\n",
    "    if all(col in df.columns for col in ['Year', 'Month', 'Day']):\n",
    "        df['date'] = df.apply(parse_3_digit_year, axis=1)\n",
    "        try:\n",
    "            df['date'] = pd.to_datetime(df['date'])\n",
    "        except Exception as e:\n",
    "            print(f\"Error in date conversion: {e}\")\n",
    "        df.drop(columns=['Year', 'Month', 'Day'], inplace=True)\n",
    "        df['day_of_week'] = df['date'].dt.dayofweek\n",
    "        df['month'] = df['date'].dt.month\n",
    "        df['year'] = df['date'].dt.year\n",
    "        df.drop(columns=['date'], inplace=True)\n",
    "\n",
    "#Target and feature columns\n",
    "target_columns = ['Avg_Temperature', 'Radiation', 'Rain_Amount', 'Wind_Speed', 'Wind_Direction']\n",
    "feature_columns = [col for col in train_df.columns if col not in ['ID'] + target_columns]\n",
    "\n",
    "#Prepare data\n",
    "existing_target_columns = [col for col in target_columns if col in train_df.columns]\n",
    "X_train = train_df[feature_columns]\n",
    "y_train = train_df[existing_target_columns]\n",
    "X_test = test_df.drop(columns=['ID'], errors='ignore')\n",
    "\n",
    "X_train = pd.get_dummies(X_train, drop_first=True)\n",
    "X_test = pd.get_dummies(X_test, drop_first=True)\n",
    "X_test = X_test.reindex(columns=X_train.columns, fill_value=0)\n",
    "\n",
    "#Imputation\n",
    "imputer = SimpleImputer(strategy=\"median\")\n",
    "X_train = pd.DataFrame(imputer.fit_transform(X_train), columns=X_train.columns)\n",
    "X_test = pd.DataFrame(imputer.transform(X_test), columns=X_test.columns)\n",
    "\n",
    "X_train_small, X_val, y_train_small, y_val = train_test_split(X_train, y_train, test_size=0.2, random_state=42)\n",
    "\n",
    "#Model training\n",
    "rf = RandomForestRegressor(n_estimators=100, random_state=42)\n",
    "multi_target_model = MultiOutputRegressor(rf)\n",
    "multi_target_model.fit(X_train_small, y_train_small)\n",
    "\n",
    "y_val_pred = multi_target_model.predict(X_val)\n",
    "mae = mean_absolute_error(y_val, y_val_pred)\n",
    "print(f\"Validation Mean Absolute Error: {mae}\")\n",
    "\n",
    "multi_target_model.fit(X_train, y_train)\n",
    "\n",
    "y_test_pred = multi_target_model.predict(X_test)\n",
    "y_test_pred_df = pd.DataFrame(y_test_pred, columns=existing_target_columns)\n",
    "\n",
    "submission = test_df[['ID']].copy() if 'ID' in test_df.columns else pd.DataFrame()\n",
    "for col in existing_target_columns:\n",
    "    submission[col] = y_test_pred_df[col]\n",
    "submission.to_csv('/kaggle/working/submission.csv', index=False)\n",
    "print(\"Submission Preview:\\n\", submission.head())\n"
   ]
  }
 ],
 "metadata": {
  "kaggle": {
   "accelerator": "none",
   "dataSources": [
    {
     "databundleVersionId": 11590601,
     "sourceId": 97455,
     "sourceType": "competition"
    }
   ],
   "dockerImageVersionId": 30918,
   "isGpuEnabled": false,
   "isInternetEnabled": true,
   "language": "python",
   "sourceType": "notebook"
  },
  "kernelspec": {
   "display_name": "Python 3",
   "language": "python",
   "name": "python3"
  },
  "language_info": {
   "codemirror_mode": {
    "name": "ipython",
    "version": 3
   },
   "file_extension": ".py",
   "mimetype": "text/x-python",
   "name": "python",
   "nbconvert_exporter": "python",
   "pygments_lexer": "ipython3",
   "version": "3.10.12"
  },
  "papermill": {
   "default_parameters": {},
   "duration": null,
   "end_time": null,
   "environment_variables": {},
   "exception": null,
   "input_path": "__notebook__.ipynb",
   "output_path": "__notebook__.ipynb",
   "parameters": {},
   "start_time": "2025-04-02T12:00:49.082091",
   "version": "2.6.0"
  }
 },
 "nbformat": 4,
 "nbformat_minor": 5
}